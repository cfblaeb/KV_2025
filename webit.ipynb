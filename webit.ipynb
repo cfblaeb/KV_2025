{
 "cells": [
  {
   "cell_type": "code",
   "execution_count": 3,
   "metadata": {},
   "outputs": [],
   "source": [
    "from jupyter_dash import JupyterDash\n",
    "from dash import dcc, html, exceptions, callback_context\n",
    "from dash.dependencies import Input, Output\n",
    "import dash_daq as daq\n",
    "import plotly.express as px\n",
    "import plotly.graph_objects as go\n",
    "import pandas as pd\n",
    "from sklearn.discriminant_analysis import LinearDiscriminantAnalysis\n",
    "from sklearn.decomposition import PCA\n",
    "import numpy as np\n",
    "from json import load\n",
    "import dash_bootstrap_components as dbc"
   ]
  },
  {
   "cell_type": "code",
   "execution_count": 4,
   "metadata": {},
   "outputs": [],
   "source": [
    "df = pd.read_feather(\"2024_EU_Lasse_data.feather\").reset_index()"
   ]
  },
  {
   "cell_type": "code",
   "execution_count": 5,
   "metadata": {},
   "outputs": [],
   "source": [
    "dk_spg = ['1a', '1b', '2a', '2b', '3a', '3b', '4a', '4b', '5a', '5b', '6a', '6b', '7a', '7b', '8a', '8b', '9a', '9b', '10a', '10b', '11a', '11b']\n",
    "#['530', '531', '533', '534', '535', '537', '538', '540', '541', '543','544', '545', '546', '547', '548', '550', '551', '552', '553', '555',\n",
    "#       '556', '557', '559', '561', '563', '1a', '1b', '2a','2b', '3a', '3b', '4a', '4b', '5a', '5b', '6a', '6b', '7a', '7b', '8a',\n",
    "#       '8b', '9a', '9b', '10a', '10b', '11a', '11b', '12a', '12b']"
   ]
  },
  {
   "cell_type": "code",
   "execution_count": 6,
   "metadata": {},
   "outputs": [],
   "source": [
    "color_dict = pd.read_json(\"various.json\").set_index('bogstav_leg')['farver'].to_dict()\n",
    "\n",
    "X = df[dk_spg]\n",
    "y = df['parti']\n",
    "\n",
    "lda = LinearDiscriminantAnalysis(n_components=2).fit(X, y)\n",
    "\n",
    "q = pd.concat([\n",
    "    df,\n",
    "    pd.DataFrame(lda.transform(df[dk_spg]), columns=[\"X\", \"y\"]).set_index(df.index)],\n",
    "    #pd.DataFrame(PCA(n_components=2).fit_transform(X), columns=[\"X\", \"y\"]).set_index(df.index)],\n",
    "    axis=1)"
   ]
  },
  {
   "cell_type": "code",
   "execution_count": 7,
   "metadata": {},
   "outputs": [],
   "source": [
    "q['bogstav'] = q.parti.map(pd.read_json(\"various.json\").reset_index().set_index('bogstav_leg')['index'])"
   ]
  },
  {
   "cell_type": "code",
   "execution_count": 11,
   "metadata": {},
   "outputs": [],
   "source": [
    "fv2022 = pd.read_json('tv2_sprg.json')\n",
    "#dr_sprgs = pd.read_json('raw_data/DR/questions.json')\n",
    "#dr_sprgs.columns = dr_sprgs.columns.str.lower()\n",
    "dr_sprgs = pd.DataFrame()\n",
    "\n",
    "sprgs = pd.concat([fv2022, dr_sprgs])[['id', 'question']].set_index('id')\n",
    "sprgs.index = sprgs.index.astype('str')\n",
    "\n",
    "sprgs = sprgs.loc[dk_spg]\n",
    "svar_muligheder = ['helt uenig','uenig','neutral','enig','helt enig']"
   ]
  },
  {
   "cell_type": "code",
   "execution_count": 12,
   "metadata": {},
   "outputs": [],
   "source": [
    "# De vigtigste spørgsmål"
   ]
  },
  {
   "cell_type": "code",
   "execution_count": 13,
   "metadata": {},
   "outputs": [
    {
     "data": {
      "text/html": [
       "<div>\n",
       "<style scoped>\n",
       "    .dataframe tbody tr th:only-of-type {\n",
       "        vertical-align: middle;\n",
       "    }\n",
       "\n",
       "    .dataframe tbody tr th {\n",
       "        vertical-align: top;\n",
       "    }\n",
       "\n",
       "    .dataframe thead th {\n",
       "        text-align: right;\n",
       "    }\n",
       "</style>\n",
       "<table border=\"1\" class=\"dataframe\">\n",
       "  <thead>\n",
       "    <tr style=\"text-align: right;\">\n",
       "      <th></th>\n",
       "      <th>sprg</th>\n",
       "      <th>dx</th>\n",
       "      <th>dy</th>\n",
       "    </tr>\n",
       "    <tr>\n",
       "      <th>id</th>\n",
       "      <th></th>\n",
       "      <th></th>\n",
       "      <th></th>\n",
       "    </tr>\n",
       "  </thead>\n",
       "  <tbody>\n",
       "    <tr>\n",
       "      <th>4b</th>\n",
       "      <td>Flygtninge og migranter, der ankommer til EU’s...</td>\n",
       "      <td>-2.791995</td>\n",
       "      <td>-0.418126</td>\n",
       "    </tr>\n",
       "    <tr>\n",
       "      <th>1b</th>\n",
       "      <td>EU har en målsætning om at være klimaneutral i...</td>\n",
       "      <td>-2.286670</td>\n",
       "      <td>-0.432290</td>\n",
       "    </tr>\n",
       "    <tr>\n",
       "      <th>8b</th>\n",
       "      <td>EU gør i dag for lidt for at ensrette national...</td>\n",
       "      <td>-1.133165</td>\n",
       "      <td>0.694559</td>\n",
       "    </tr>\n",
       "    <tr>\n",
       "      <th>3b</th>\n",
       "      <td>Hvis der stadig er et frit Ukraine efter krige...</td>\n",
       "      <td>-1.041232</td>\n",
       "      <td>1.598404</td>\n",
       "    </tr>\n",
       "    <tr>\n",
       "      <th>6a</th>\n",
       "      <td>EU bør skærpe lovgivningen for, hvor meget lan...</td>\n",
       "      <td>-1.037776</td>\n",
       "      <td>-0.675445</td>\n",
       "    </tr>\n",
       "    <tr>\n",
       "      <th>9a</th>\n",
       "      <td>Danmark bør afholde en folkeafstemning om udme...</td>\n",
       "      <td>1.036394</td>\n",
       "      <td>-3.583059</td>\n",
       "    </tr>\n",
       "    <tr>\n",
       "      <th>10b</th>\n",
       "      <td>Der overføres for mange penge fra de rigeste E...</td>\n",
       "      <td>1.364687</td>\n",
       "      <td>-0.070816</td>\n",
       "    </tr>\n",
       "    <tr>\n",
       "      <th>4a</th>\n",
       "      <td>EU bør gøre mere for at forhindre, at flygtnin...</td>\n",
       "      <td>2.097505</td>\n",
       "      <td>1.320238</td>\n",
       "    </tr>\n",
       "  </tbody>\n",
       "</table>\n",
       "</div>"
      ],
      "text/plain": [
       "                                                  sprg        dx        dy\n",
       "id                                                                        \n",
       "4b   Flygtninge og migranter, der ankommer til EU’s... -2.791995 -0.418126\n",
       "1b   EU har en målsætning om at være klimaneutral i... -2.286670 -0.432290\n",
       "8b   EU gør i dag for lidt for at ensrette national... -1.133165  0.694559\n",
       "3b   Hvis der stadig er et frit Ukraine efter krige... -1.041232  1.598404\n",
       "6a   EU bør skærpe lovgivningen for, hvor meget lan... -1.037776 -0.675445\n",
       "9a   Danmark bør afholde en folkeafstemning om udme...  1.036394 -3.583059\n",
       "10b  Der overføres for mange penge fra de rigeste E...  1.364687 -0.070816\n",
       "4a   EU bør gøre mere for at forhindre, at flygtnin...  2.097505  1.320238"
      ]
     },
     "execution_count": 13,
     "metadata": {},
     "output_type": "execute_result"
    }
   ],
   "source": [
    "sca = pd.DataFrame({'sprg': sprgs.question, 'dx': lda.scalings_[:,0], 'dy': lda.scalings_[:,1]})\n",
    "# på x aksen ved ja svar\n",
    "sca.sort_values('dx')[sca.sort_values('dx')['dx'].abs()>0.8]"
   ]
  },
  {
   "cell_type": "code",
   "execution_count": 14,
   "metadata": {},
   "outputs": [
    {
     "data": {
      "text/html": [
       "<div>\n",
       "<style scoped>\n",
       "    .dataframe tbody tr th:only-of-type {\n",
       "        vertical-align: middle;\n",
       "    }\n",
       "\n",
       "    .dataframe tbody tr th {\n",
       "        vertical-align: top;\n",
       "    }\n",
       "\n",
       "    .dataframe thead th {\n",
       "        text-align: right;\n",
       "    }\n",
       "</style>\n",
       "<table border=\"1\" class=\"dataframe\">\n",
       "  <thead>\n",
       "    <tr style=\"text-align: right;\">\n",
       "      <th></th>\n",
       "      <th>sprg</th>\n",
       "      <th>dx</th>\n",
       "      <th>dy</th>\n",
       "    </tr>\n",
       "    <tr>\n",
       "      <th>id</th>\n",
       "      <th></th>\n",
       "      <th></th>\n",
       "      <th></th>\n",
       "    </tr>\n",
       "  </thead>\n",
       "  <tbody>\n",
       "    <tr>\n",
       "      <th>9a</th>\n",
       "      <td>Danmark bør afholde en folkeafstemning om udme...</td>\n",
       "      <td>1.036394</td>\n",
       "      <td>-3.583059</td>\n",
       "    </tr>\n",
       "    <tr>\n",
       "      <th>6b</th>\n",
       "      <td>EU’s landbrugsstøtte bør reduceres markant.</td>\n",
       "      <td>-0.647780</td>\n",
       "      <td>-1.497893</td>\n",
       "    </tr>\n",
       "    <tr>\n",
       "      <th>10a</th>\n",
       "      <td>EU bør ændre sine traktater, så der kan fastsæ...</td>\n",
       "      <td>-0.284176</td>\n",
       "      <td>-1.130348</td>\n",
       "    </tr>\n",
       "    <tr>\n",
       "      <th>5b</th>\n",
       "      <td>Danmark bør indføre euroen.</td>\n",
       "      <td>0.758651</td>\n",
       "      <td>0.821837</td>\n",
       "    </tr>\n",
       "    <tr>\n",
       "      <th>9b</th>\n",
       "      <td>Beslutninger i EU bør i højere grad kunne vedt...</td>\n",
       "      <td>0.593391</td>\n",
       "      <td>0.944774</td>\n",
       "    </tr>\n",
       "    <tr>\n",
       "      <th>4a</th>\n",
       "      <td>EU bør gøre mere for at forhindre, at flygtnin...</td>\n",
       "      <td>2.097505</td>\n",
       "      <td>1.320238</td>\n",
       "    </tr>\n",
       "    <tr>\n",
       "      <th>3a</th>\n",
       "      <td>EU bør give massiv økonomisk støtte til Ukrain...</td>\n",
       "      <td>-0.320316</td>\n",
       "      <td>1.509664</td>\n",
       "    </tr>\n",
       "    <tr>\n",
       "      <th>3b</th>\n",
       "      <td>Hvis der stadig er et frit Ukraine efter krige...</td>\n",
       "      <td>-1.041232</td>\n",
       "      <td>1.598404</td>\n",
       "    </tr>\n",
       "    <tr>\n",
       "      <th>5a</th>\n",
       "      <td>Det er samlet set godt for dansk økonomi, at D...</td>\n",
       "      <td>-0.228772</td>\n",
       "      <td>3.217039</td>\n",
       "    </tr>\n",
       "  </tbody>\n",
       "</table>\n",
       "</div>"
      ],
      "text/plain": [
       "                                                  sprg        dx        dy\n",
       "id                                                                        \n",
       "9a   Danmark bør afholde en folkeafstemning om udme...  1.036394 -3.583059\n",
       "6b         EU’s landbrugsstøtte bør reduceres markant. -0.647780 -1.497893\n",
       "10a  EU bør ændre sine traktater, så der kan fastsæ... -0.284176 -1.130348\n",
       "5b                         Danmark bør indføre euroen.  0.758651  0.821837\n",
       "9b   Beslutninger i EU bør i højere grad kunne vedt...  0.593391  0.944774\n",
       "4a   EU bør gøre mere for at forhindre, at flygtnin...  2.097505  1.320238\n",
       "3a   EU bør give massiv økonomisk støtte til Ukrain... -0.320316  1.509664\n",
       "3b   Hvis der stadig er et frit Ukraine efter krige... -1.041232  1.598404\n",
       "5a   Det er samlet set godt for dansk økonomi, at D... -0.228772  3.217039"
      ]
     },
     "execution_count": 14,
     "metadata": {},
     "output_type": "execute_result"
    }
   ],
   "source": [
    "# på y aksen ved ja svar\n",
    "sca.sort_values('dy')[sca.sort_values('dy')['dy'].abs()>0.8]"
   ]
  },
  {
   "cell_type": "code",
   "execution_count": 15,
   "metadata": {},
   "outputs": [
    {
     "data": {
      "text/html": [
       "<div>\n",
       "<style scoped>\n",
       "    .dataframe tbody tr th:only-of-type {\n",
       "        vertical-align: middle;\n",
       "    }\n",
       "\n",
       "    .dataframe tbody tr th {\n",
       "        vertical-align: top;\n",
       "    }\n",
       "\n",
       "    .dataframe thead th {\n",
       "        text-align: right;\n",
       "    }\n",
       "</style>\n",
       "<table border=\"1\" class=\"dataframe\">\n",
       "  <thead>\n",
       "    <tr style=\"text-align: right;\">\n",
       "      <th></th>\n",
       "      <th>sprg</th>\n",
       "      <th>dx</th>\n",
       "      <th>dy</th>\n",
       "    </tr>\n",
       "    <tr>\n",
       "      <th>id</th>\n",
       "      <th></th>\n",
       "      <th></th>\n",
       "      <th></th>\n",
       "    </tr>\n",
       "  </thead>\n",
       "  <tbody>\n",
       "  </tbody>\n",
       "</table>\n",
       "</div>"
      ],
      "text/plain": [
       "Empty DataFrame\n",
       "Columns: [sprg, dx, dy]\n",
       "Index: []"
      ]
     },
     "execution_count": 15,
     "metadata": {},
     "output_type": "execute_result"
    }
   ],
   "source": [
    "# det mindst vigtige spørgsmål (eller alle er enige)\n",
    "sca[sca[['dx', 'dy']].abs().T.sum()<0.2]"
   ]
  },
  {
   "cell_type": "code",
   "execution_count": 16,
   "metadata": {},
   "outputs": [],
   "source": [
    "def confidence_ellipse(x, y, n_std=1.96, size=100):\n",
    "    if x.size != y.size:\n",
    "        raise ValueError(\"x and y must be the same size\")\n",
    "\n",
    "    cov = np.cov(x, y)\n",
    "    pearson = cov[0, 1]/np.sqrt(cov[0, 0] * cov[1, 1])\n",
    "    ell_radius_x = np.sqrt(1 + pearson)\n",
    "    ell_radius_y = np.sqrt(1 - pearson)\n",
    "    theta = np.linspace(0, 2 * np.pi, size)\n",
    "    ellipse_coords = np.column_stack([ell_radius_x * np.cos(theta), ell_radius_y * np.sin(theta)])\n",
    "    x_scale = np.sqrt(cov[0, 0]) * n_std\n",
    "    x_mean = np.mean(x)\n",
    "    y_scale = np.sqrt(cov[1, 1]) * n_std\n",
    "    y_mean = np.mean(y)  \n",
    "    translation_matrix = np.tile([x_mean, y_mean], (ellipse_coords.shape[0], 1))\n",
    "    rotation_matrix = np.array([[np.cos(np.pi / 4), np.sin(np.pi / 4)], [-np.sin(np.pi / 4), np.cos(np.pi / 4)]])\n",
    "    scale_matrix = np.array([[x_scale, 0], [0, y_scale]])\n",
    "    ellipse_coords = ellipse_coords.dot(rotation_matrix).dot(scale_matrix) + translation_matrix\n",
    "    \n",
    "    path = f'M {ellipse_coords[0, 0]}, {ellipse_coords[0, 1]}'\n",
    "    for k in range(1, len(ellipse_coords)):\n",
    "        path += f'L{ellipse_coords[k, 0]}, {ellipse_coords[k, 1]}'\n",
    "    path += ' Z'\n",
    "    return path"
   ]
  },
  {
   "cell_type": "code",
   "execution_count": 18,
   "metadata": {},
   "outputs": [],
   "source": [
    "#app = JupyterDash(__name__)\n",
    "app = JupyterDash(\n",
    "    external_stylesheets=[dbc.themes.SOLAR, dbc.icons.BOOTSTRAP],\n",
    "    meta_tags=[{\"name\": \"viewport\", \"content\": \"width=device-width, initial-scale=1\"},],\n",
    ")\n",
    "server = app.server\n",
    "\n",
    "app.layout = dbc.Container([\n",
    "    dbc.Alert([\n",
    "        html.I(className=\"bi bi-check-circle-fill me-2\"),\n",
    "        \"An example success alert with an icon\",\n",
    "    ], color=\"success\"),\n",
    "    daq.BooleanSwitch(\n",
    "        id='parti_shadow',\n",
    "        on=False,\n",
    "        label=\"Tegn skygge af parti områderne:\",\n",
    "        labelPosition=\"top\"\n",
    "    ),\n",
    "    dcc.Graph(id='viz'),\n",
    "    html.Div(id=\"svar_res\", children=[\"(her kommer forudsigelser om hvilket parti en 'klikket' politiker burde være i)\"]),\n",
    "    dcc.Markdown('''\n",
    "        # SVAR\n",
    "        ### Tryk på politiker for at se hans svar eller svar selv for at se hvor DU ligger\n",
    "        helt uenig  --  uenig  --  neutral  --  enig  --  helt enig\n",
    "        '''),\n",
    "    html.Div([\n",
    "        dcc.RadioItems(id=sprgs.loc[spg].name, options=[{'label': '' if x<4 else sprgs.loc[spg]['question'], 'value': x/4} for x in range(5)],value=0,labelStyle={'display': 'inline-block'}) for spg in dk_spg\n",
    "    ]),\n",
    "], className=\"p-5\",)"
   ]
  },
  {
   "cell_type": "code",
   "execution_count": 19,
   "metadata": {},
   "outputs": [],
   "source": [
    "@app.callback(Output('viz', 'figure'), Input('parti_shadow', 'on'))\n",
    "def update_graph(shadow):                            \n",
    "    a = q\n",
    "    \n",
    "    f1 = px.scatter(a, x='X',y='y', color='parti', color_discrete_map=color_dict, hover_data=['navn', 'alder'], \n",
    "                    custom_data=['index'])\n",
    "    if shadow:\n",
    "        for ii, (i, data) in enumerate(q.groupby('parti')):\n",
    "            f1.add_shape(\n",
    "                type='path',\n",
    "                path=confidence_ellipse(data.X, data.y),\n",
    "                line_color='rgb(0,0,0,1)',\n",
    "                fillcolor=color_dict[i],\n",
    "                opacity=.2,\n",
    "                )\n",
    "    return f1\n",
    "@app.callback([*[Output(x, 'value') for x in dk_spg], Output('svar_res', 'children')], {'clickData': Input('viz', 'clickData'), 'spg_in': [Input(x, 'value') for x in dk_spg]})\n",
    "def display_click_data(clickData, spg_in):\n",
    "    ctx = callback_context\n",
    "    trigger_id = ctx.triggered[0][\"prop_id\"].split(\".\")[0]\n",
    "    if trigger_id == 'viz':\n",
    "        if clickData and len(clickData['points']) != 0:\n",
    "            idx = clickData['points'][0]['customdata'][0]\n",
    "            navn = clickData['points'][0]['customdata'][1]\n",
    "        else:\n",
    "            idx = 1350\n",
    "            navn = \"(klik på nogen)\"\n",
    "        row = q[q['index'] == idx]\n",
    "        parti = row['parti'].iloc[0]\n",
    "        nyt_parti = lda.predict(row[dk_spg])[0]\n",
    "        return [*[row[x].iloc[0] for x in dk_spg], f\"Du har klikket på {navn}, {parti}. Vedkomne burde overveje {nyt_parti}\"]\n",
    "    else:\n",
    "        a = pd.DataFrame(spg_in, index=dk_spg).T\n",
    "        b = lda.transform(a)[0]\n",
    "        return [*[x for x in spg_in], f\"Dine koordinater er {b[0]:.1f}, {b[1]:.1f}. Du burde overveje {lda.predict(a)[0]}\"]\n",
    "#@app.callback(Output(), [Input(x, 'value') for x in dk_spg])"
   ]
  },
  {
   "cell_type": "code",
   "execution_count": 20,
   "metadata": {},
   "outputs": [
    {
     "data": {
      "text/html": [
       "\n",
       "        <iframe\n",
       "            width=\"100%\"\n",
       "            height=\"650\"\n",
       "            src=\"http://127.0.0.1:8050/\"\n",
       "            frameborder=\"0\"\n",
       "            allowfullscreen\n",
       "            \n",
       "        ></iframe>\n",
       "        "
      ],
      "text/plain": [
       "<IPython.lib.display.IFrame at 0x72dc40a6da90>"
      ]
     },
     "metadata": {},
     "output_type": "display_data"
    }
   ],
   "source": [
    "app.run_server(mode='jupyterlab')\n",
    "#app.run_server(mode='external')"
   ]
  },
  {
   "cell_type": "code",
   "execution_count": null,
   "metadata": {},
   "outputs": [],
   "source": []
  },
  {
   "cell_type": "code",
   "execution_count": null,
   "metadata": {},
   "outputs": [],
   "source": []
  },
  {
   "cell_type": "code",
   "execution_count": null,
   "metadata": {},
   "outputs": [],
   "source": []
  }
 ],
 "metadata": {
  "jupytext": {
   "formats": "ipynb,py:percent"
  },
  "kernelspec": {
   "display_name": "Python 3 (ipykernel)",
   "language": "python",
   "name": "python3"
  },
  "language_info": {
   "codemirror_mode": {
    "name": "ipython",
    "version": 3
   },
   "file_extension": ".py",
   "mimetype": "text/x-python",
   "name": "python",
   "nbconvert_exporter": "python",
   "pygments_lexer": "ipython3",
   "version": "3.12.3"
  }
 },
 "nbformat": 4,
 "nbformat_minor": 4
}
